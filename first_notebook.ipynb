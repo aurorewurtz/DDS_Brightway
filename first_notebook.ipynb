{
 "cells": [
  {
   "cell_type": "markdown",
   "id": "58fb83bc-158c-43ef-8bae-b1a0cca14896",
   "metadata": {},
   "source": [
    "Test du premier Notebook"
   ]
  },
  {
   "cell_type": "code",
   "execution_count": null,
   "id": "514676ac-59ba-4518-8e67-5d614785e0e3",
   "metadata": {},
   "outputs": [],
   "source": [
    "a=1"
   ]
  }
 ],
 "metadata": {
  "kernelspec": {
   "display_name": "Python 3 (ipykernel)",
   "language": "python",
   "name": "python3"
  },
  "language_info": {
   "codemirror_mode": {
    "name": "ipython",
    "version": 3
   },
   "file_extension": ".py",
   "mimetype": "text/x-python",
   "name": "python",
   "nbconvert_exporter": "python",
   "pygments_lexer": "ipython3",
   "version": "3.11.10"
  }
 },
 "nbformat": 4,
 "nbformat_minor": 5
}
